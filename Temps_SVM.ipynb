{
 "cells": [
  {
   "cell_type": "code",
   "execution_count": 1,
   "metadata": {},
   "outputs": [],
   "source": [
    "import numpy as np\n",
    "import pandas as pd\n",
    "import matplotlib.pyplot as plt\n",
    "import seaborn as sns\n",
    "%matplotlib inline"
   ]
  },
  {
   "cell_type": "code",
   "execution_count": 3,
   "metadata": {},
   "outputs": [
    {
     "data": {
      "text/html": [
       "<div>\n",
       "<style scoped>\n",
       "    .dataframe tbody tr th:only-of-type {\n",
       "        vertical-align: middle;\n",
       "    }\n",
       "\n",
       "    .dataframe tbody tr th {\n",
       "        vertical-align: top;\n",
       "    }\n",
       "\n",
       "    .dataframe thead th {\n",
       "        text-align: right;\n",
       "    }\n",
       "</style>\n",
       "<table border=\"1\" class=\"dataframe\">\n",
       "  <thead>\n",
       "    <tr style=\"text-align: right;\">\n",
       "      <th></th>\n",
       "      <th>year</th>\n",
       "      <th>month</th>\n",
       "      <th>day</th>\n",
       "      <th>week</th>\n",
       "      <th>temp_2</th>\n",
       "      <th>temp_1</th>\n",
       "      <th>average</th>\n",
       "      <th>actual</th>\n",
       "      <th>forecast_noaa</th>\n",
       "      <th>forecast_acc</th>\n",
       "      <th>forecast_under</th>\n",
       "      <th>friend</th>\n",
       "    </tr>\n",
       "  </thead>\n",
       "  <tbody>\n",
       "    <tr>\n",
       "      <th>0</th>\n",
       "      <td>2016</td>\n",
       "      <td>1</td>\n",
       "      <td>1</td>\n",
       "      <td>Fri</td>\n",
       "      <td>45</td>\n",
       "      <td>45</td>\n",
       "      <td>45.6</td>\n",
       "      <td>45</td>\n",
       "      <td>43</td>\n",
       "      <td>50</td>\n",
       "      <td>44</td>\n",
       "      <td>29</td>\n",
       "    </tr>\n",
       "    <tr>\n",
       "      <th>1</th>\n",
       "      <td>2016</td>\n",
       "      <td>1</td>\n",
       "      <td>2</td>\n",
       "      <td>Sat</td>\n",
       "      <td>44</td>\n",
       "      <td>45</td>\n",
       "      <td>45.7</td>\n",
       "      <td>44</td>\n",
       "      <td>41</td>\n",
       "      <td>50</td>\n",
       "      <td>44</td>\n",
       "      <td>61</td>\n",
       "    </tr>\n",
       "    <tr>\n",
       "      <th>2</th>\n",
       "      <td>2016</td>\n",
       "      <td>1</td>\n",
       "      <td>3</td>\n",
       "      <td>Sun</td>\n",
       "      <td>45</td>\n",
       "      <td>44</td>\n",
       "      <td>45.8</td>\n",
       "      <td>41</td>\n",
       "      <td>43</td>\n",
       "      <td>46</td>\n",
       "      <td>47</td>\n",
       "      <td>56</td>\n",
       "    </tr>\n",
       "    <tr>\n",
       "      <th>3</th>\n",
       "      <td>2016</td>\n",
       "      <td>1</td>\n",
       "      <td>4</td>\n",
       "      <td>Mon</td>\n",
       "      <td>44</td>\n",
       "      <td>41</td>\n",
       "      <td>45.9</td>\n",
       "      <td>40</td>\n",
       "      <td>44</td>\n",
       "      <td>48</td>\n",
       "      <td>46</td>\n",
       "      <td>53</td>\n",
       "    </tr>\n",
       "    <tr>\n",
       "      <th>4</th>\n",
       "      <td>2016</td>\n",
       "      <td>1</td>\n",
       "      <td>5</td>\n",
       "      <td>Tues</td>\n",
       "      <td>41</td>\n",
       "      <td>40</td>\n",
       "      <td>46.0</td>\n",
       "      <td>44</td>\n",
       "      <td>46</td>\n",
       "      <td>46</td>\n",
       "      <td>46</td>\n",
       "      <td>41</td>\n",
       "    </tr>\n",
       "  </tbody>\n",
       "</table>\n",
       "</div>"
      ],
      "text/plain": [
       "   year  month  day  week  temp_2  temp_1  average  actual  forecast_noaa  \\\n",
       "0  2016      1    1   Fri      45      45     45.6      45             43   \n",
       "1  2016      1    2   Sat      44      45     45.7      44             41   \n",
       "2  2016      1    3   Sun      45      44     45.8      41             43   \n",
       "3  2016      1    4   Mon      44      41     45.9      40             44   \n",
       "4  2016      1    5  Tues      41      40     46.0      44             46   \n",
       "\n",
       "   forecast_acc  forecast_under  friend  \n",
       "0            50              44      29  \n",
       "1            50              44      61  \n",
       "2            46              47      56  \n",
       "3            48              46      53  \n",
       "4            46              46      41  "
      ]
     },
     "execution_count": 3,
     "metadata": {},
     "output_type": "execute_result"
    }
   ],
   "source": [
    "df= pd.read_csv('temps.csv')\n",
    "df.head()"
   ]
  },
  {
   "cell_type": "code",
   "execution_count": 4,
   "metadata": {},
   "outputs": [
    {
     "data": {
      "text/plain": [
       "(348, 12)"
      ]
     },
     "execution_count": 4,
     "metadata": {},
     "output_type": "execute_result"
    }
   ],
   "source": [
    "df.shape"
   ]
  },
  {
   "cell_type": "code",
   "execution_count": 5,
   "metadata": {},
   "outputs": [
    {
     "data": {
      "text/html": [
       "<div>\n",
       "<style scoped>\n",
       "    .dataframe tbody tr th:only-of-type {\n",
       "        vertical-align: middle;\n",
       "    }\n",
       "\n",
       "    .dataframe tbody tr th {\n",
       "        vertical-align: top;\n",
       "    }\n",
       "\n",
       "    .dataframe thead th {\n",
       "        text-align: right;\n",
       "    }\n",
       "</style>\n",
       "<table border=\"1\" class=\"dataframe\">\n",
       "  <thead>\n",
       "    <tr style=\"text-align: right;\">\n",
       "      <th></th>\n",
       "      <th>count</th>\n",
       "      <th>mean</th>\n",
       "      <th>std</th>\n",
       "      <th>min</th>\n",
       "      <th>25%</th>\n",
       "      <th>50%</th>\n",
       "      <th>75%</th>\n",
       "      <th>max</th>\n",
       "    </tr>\n",
       "  </thead>\n",
       "  <tbody>\n",
       "    <tr>\n",
       "      <th>year</th>\n",
       "      <td>348.0</td>\n",
       "      <td>2016.000000</td>\n",
       "      <td>0.000000</td>\n",
       "      <td>2016.0</td>\n",
       "      <td>2016.000</td>\n",
       "      <td>2016.0</td>\n",
       "      <td>2016.000</td>\n",
       "      <td>2016.0</td>\n",
       "    </tr>\n",
       "    <tr>\n",
       "      <th>month</th>\n",
       "      <td>348.0</td>\n",
       "      <td>6.477011</td>\n",
       "      <td>3.498380</td>\n",
       "      <td>1.0</td>\n",
       "      <td>3.000</td>\n",
       "      <td>6.0</td>\n",
       "      <td>10.000</td>\n",
       "      <td>12.0</td>\n",
       "    </tr>\n",
       "    <tr>\n",
       "      <th>day</th>\n",
       "      <td>348.0</td>\n",
       "      <td>15.514368</td>\n",
       "      <td>8.772982</td>\n",
       "      <td>1.0</td>\n",
       "      <td>8.000</td>\n",
       "      <td>15.0</td>\n",
       "      <td>23.000</td>\n",
       "      <td>31.0</td>\n",
       "    </tr>\n",
       "    <tr>\n",
       "      <th>temp_2</th>\n",
       "      <td>348.0</td>\n",
       "      <td>62.652299</td>\n",
       "      <td>12.165398</td>\n",
       "      <td>35.0</td>\n",
       "      <td>54.000</td>\n",
       "      <td>62.5</td>\n",
       "      <td>71.000</td>\n",
       "      <td>117.0</td>\n",
       "    </tr>\n",
       "    <tr>\n",
       "      <th>temp_1</th>\n",
       "      <td>348.0</td>\n",
       "      <td>62.701149</td>\n",
       "      <td>12.120542</td>\n",
       "      <td>35.0</td>\n",
       "      <td>54.000</td>\n",
       "      <td>62.5</td>\n",
       "      <td>71.000</td>\n",
       "      <td>117.0</td>\n",
       "    </tr>\n",
       "    <tr>\n",
       "      <th>average</th>\n",
       "      <td>348.0</td>\n",
       "      <td>59.760632</td>\n",
       "      <td>10.527306</td>\n",
       "      <td>45.1</td>\n",
       "      <td>49.975</td>\n",
       "      <td>58.2</td>\n",
       "      <td>69.025</td>\n",
       "      <td>77.4</td>\n",
       "    </tr>\n",
       "    <tr>\n",
       "      <th>actual</th>\n",
       "      <td>348.0</td>\n",
       "      <td>62.543103</td>\n",
       "      <td>11.794146</td>\n",
       "      <td>35.0</td>\n",
       "      <td>54.000</td>\n",
       "      <td>62.5</td>\n",
       "      <td>71.000</td>\n",
       "      <td>92.0</td>\n",
       "    </tr>\n",
       "    <tr>\n",
       "      <th>forecast_noaa</th>\n",
       "      <td>348.0</td>\n",
       "      <td>57.238506</td>\n",
       "      <td>10.605746</td>\n",
       "      <td>41.0</td>\n",
       "      <td>48.000</td>\n",
       "      <td>56.0</td>\n",
       "      <td>66.000</td>\n",
       "      <td>77.0</td>\n",
       "    </tr>\n",
       "    <tr>\n",
       "      <th>forecast_acc</th>\n",
       "      <td>348.0</td>\n",
       "      <td>62.373563</td>\n",
       "      <td>10.549381</td>\n",
       "      <td>46.0</td>\n",
       "      <td>53.000</td>\n",
       "      <td>61.0</td>\n",
       "      <td>72.000</td>\n",
       "      <td>82.0</td>\n",
       "    </tr>\n",
       "    <tr>\n",
       "      <th>forecast_under</th>\n",
       "      <td>348.0</td>\n",
       "      <td>59.772989</td>\n",
       "      <td>10.705256</td>\n",
       "      <td>44.0</td>\n",
       "      <td>50.000</td>\n",
       "      <td>58.0</td>\n",
       "      <td>69.000</td>\n",
       "      <td>79.0</td>\n",
       "    </tr>\n",
       "    <tr>\n",
       "      <th>friend</th>\n",
       "      <td>348.0</td>\n",
       "      <td>60.034483</td>\n",
       "      <td>15.626179</td>\n",
       "      <td>28.0</td>\n",
       "      <td>47.750</td>\n",
       "      <td>60.0</td>\n",
       "      <td>71.000</td>\n",
       "      <td>95.0</td>\n",
       "    </tr>\n",
       "  </tbody>\n",
       "</table>\n",
       "</div>"
      ],
      "text/plain": [
       "                count         mean        std     min       25%     50%  \\\n",
       "year            348.0  2016.000000   0.000000  2016.0  2016.000  2016.0   \n",
       "month           348.0     6.477011   3.498380     1.0     3.000     6.0   \n",
       "day             348.0    15.514368   8.772982     1.0     8.000    15.0   \n",
       "temp_2          348.0    62.652299  12.165398    35.0    54.000    62.5   \n",
       "temp_1          348.0    62.701149  12.120542    35.0    54.000    62.5   \n",
       "average         348.0    59.760632  10.527306    45.1    49.975    58.2   \n",
       "actual          348.0    62.543103  11.794146    35.0    54.000    62.5   \n",
       "forecast_noaa   348.0    57.238506  10.605746    41.0    48.000    56.0   \n",
       "forecast_acc    348.0    62.373563  10.549381    46.0    53.000    61.0   \n",
       "forecast_under  348.0    59.772989  10.705256    44.0    50.000    58.0   \n",
       "friend          348.0    60.034483  15.626179    28.0    47.750    60.0   \n",
       "\n",
       "                     75%     max  \n",
       "year            2016.000  2016.0  \n",
       "month             10.000    12.0  \n",
       "day               23.000    31.0  \n",
       "temp_2            71.000   117.0  \n",
       "temp_1            71.000   117.0  \n",
       "average           69.025    77.4  \n",
       "actual            71.000    92.0  \n",
       "forecast_noaa     66.000    77.0  \n",
       "forecast_acc      72.000    82.0  \n",
       "forecast_under    69.000    79.0  \n",
       "friend            71.000    95.0  "
      ]
     },
     "execution_count": 5,
     "metadata": {},
     "output_type": "execute_result"
    }
   ],
   "source": [
    "df.describe().transpose()"
   ]
  },
  {
   "cell_type": "code",
   "execution_count": 7,
   "metadata": {},
   "outputs": [],
   "source": [
    "#We are taking this step for the purpose of visualization\n",
    "\n",
    "import datetime as dt\n",
    "\n",
    "years= df.year\n",
    "months= df.month\n",
    "days= df.day\n",
    "\n",
    "dates= [str(year)+ '-' +str(month)+ '-' +str(day) for year, month, day in list(zip(years, months, days))]\n",
    "dates= [dt.datetime.strptime(date, '%Y-%m-%d') for date in dates]"
   ]
  },
  {
   "cell_type": "code",
   "execution_count": 9,
   "metadata": {},
   "outputs": [
    {
     "data": {
      "image/png": "[encoded data removed]",
      "text/plain": [
       "<Figure size 720x720 with 4 Axes>"
      ]
     },
     "metadata": {},
     "output_type": "display_data"
    }
   ],
   "source": [
    "plt.style.use('dark_background')\n",
    "\n",
    "fig, axes= plt.subplots(nrows=2, ncols=2, figsize= (10, 10))\n",
    "fig.autofmt_xdate(rotation=45)\n",
    "\n",
    "#Actual temp\n",
    "axes[0,0].plot(dates, df.actual)\n",
    "axes[0,0].set_xlabel('Date')\n",
    "axes[0,0].set_ylabel('Temparature')\n",
    "axes[0,0].set_title('Actual Max')\n",
    "\n",
    "#Max temp a day before\n",
    "axes[0,1].plot(dates, df.temp_1)\n",
    "axes[0,1].set_xlabel('Date')\n",
    "axes[0,1].set_ylabel('Temparature')\n",
    "axes[0,1].set_title('Max day before')\n",
    "\n",
    "#Max temp two days before\n",
    "axes[1,0].plot(dates, df.temp_2)\n",
    "axes[1,0].set_xlabel('Date')\n",
    "axes[1,0].set_ylabel('Temparature')\n",
    "axes[1,0].set_title('Max two days before')\n",
    "\n",
    "#Friend estimate\n",
    "axes[1,1].plot(dates, df.friend)\n",
    "axes[1,1].set_xlabel('Date')\n",
    "axes[1,1].set_ylabel('Temparature')\n",
    "axes[1,1].set_title('Friend Estimate')\n",
    "\n",
    "plt.tight_layout(pad=4)\n"
   ]
  },
  {
   "cell_type": "code",
   "execution_count": 10,
   "metadata": {},
   "outputs": [
    {
     "data": {
      "text/html": [
       "<div>\n",
       "<style scoped>\n",
       "    .dataframe tbody tr th:only-of-type {\n",
       "        vertical-align: middle;\n",
       "    }\n",
       "\n",
       "    .dataframe tbody tr th {\n",
       "        vertical-align: top;\n",
       "    }\n",
       "\n",
       "    .dataframe thead th {\n",
       "        text-align: right;\n",
       "    }\n",
       "</style>\n",
       "<table border=\"1\" class=\"dataframe\">\n",
       "  <thead>\n",
       "    <tr style=\"text-align: right;\">\n",
       "      <th></th>\n",
       "      <th>year</th>\n",
       "      <th>month</th>\n",
       "      <th>day</th>\n",
       "      <th>temp_2</th>\n",
       "      <th>temp_1</th>\n",
       "      <th>average</th>\n",
       "      <th>actual</th>\n",
       "      <th>forecast_noaa</th>\n",
       "      <th>forecast_acc</th>\n",
       "      <th>forecast_under</th>\n",
       "      <th>friend</th>\n",
       "      <th>week_Fri</th>\n",
       "      <th>week_Mon</th>\n",
       "      <th>week_Sat</th>\n",
       "      <th>week_Sun</th>\n",
       "      <th>week_Thurs</th>\n",
       "      <th>week_Tues</th>\n",
       "      <th>week_Wed</th>\n",
       "    </tr>\n",
       "  </thead>\n",
       "  <tbody>\n",
       "    <tr>\n",
       "      <th>0</th>\n",
       "      <td>2016</td>\n",
       "      <td>1</td>\n",
       "      <td>1</td>\n",
       "      <td>45</td>\n",
       "      <td>45</td>\n",
       "      <td>45.6</td>\n",
       "      <td>45</td>\n",
       "      <td>43</td>\n",
       "      <td>50</td>\n",
       "      <td>44</td>\n",
       "      <td>29</td>\n",
       "      <td>1</td>\n",
       "      <td>0</td>\n",
       "      <td>0</td>\n",
       "      <td>0</td>\n",
       "      <td>0</td>\n",
       "      <td>0</td>\n",
       "      <td>0</td>\n",
       "    </tr>\n",
       "    <tr>\n",
       "      <th>1</th>\n",
       "      <td>2016</td>\n",
       "      <td>1</td>\n",
       "      <td>2</td>\n",
       "      <td>44</td>\n",
       "      <td>45</td>\n",
       "      <td>45.7</td>\n",
       "      <td>44</td>\n",
       "      <td>41</td>\n",
       "      <td>50</td>\n",
       "      <td>44</td>\n",
       "      <td>61</td>\n",
       "      <td>0</td>\n",
       "      <td>0</td>\n",
       "      <td>1</td>\n",
       "      <td>0</td>\n",
       "      <td>0</td>\n",
       "      <td>0</td>\n",
       "      <td>0</td>\n",
       "    </tr>\n",
       "    <tr>\n",
       "      <th>2</th>\n",
       "      <td>2016</td>\n",
       "      <td>1</td>\n",
       "      <td>3</td>\n",
       "      <td>45</td>\n",
       "      <td>44</td>\n",
       "      <td>45.8</td>\n",
       "      <td>41</td>\n",
       "      <td>43</td>\n",
       "      <td>46</td>\n",
       "      <td>47</td>\n",
       "      <td>56</td>\n",
       "      <td>0</td>\n",
       "      <td>0</td>\n",
       "      <td>0</td>\n",
       "      <td>1</td>\n",
       "      <td>0</td>\n",
       "      <td>0</td>\n",
       "      <td>0</td>\n",
       "    </tr>\n",
       "    <tr>\n",
       "      <th>3</th>\n",
       "      <td>2016</td>\n",
       "      <td>1</td>\n",
       "      <td>4</td>\n",
       "      <td>44</td>\n",
       "      <td>41</td>\n",
       "      <td>45.9</td>\n",
       "      <td>40</td>\n",
       "      <td>44</td>\n",
       "      <td>48</td>\n",
       "      <td>46</td>\n",
       "      <td>53</td>\n",
       "      <td>0</td>\n",
       "      <td>1</td>\n",
       "      <td>0</td>\n",
       "      <td>0</td>\n",
       "      <td>0</td>\n",
       "      <td>0</td>\n",
       "      <td>0</td>\n",
       "    </tr>\n",
       "    <tr>\n",
       "      <th>4</th>\n",
       "      <td>2016</td>\n",
       "      <td>1</td>\n",
       "      <td>5</td>\n",
       "      <td>41</td>\n",
       "      <td>40</td>\n",
       "      <td>46.0</td>\n",
       "      <td>44</td>\n",
       "      <td>46</td>\n",
       "      <td>46</td>\n",
       "      <td>46</td>\n",
       "      <td>41</td>\n",
       "      <td>0</td>\n",
       "      <td>0</td>\n",
       "      <td>0</td>\n",
       "      <td>0</td>\n",
       "      <td>0</td>\n",
       "      <td>1</td>\n",
       "      <td>0</td>\n",
       "    </tr>\n",
       "  </tbody>\n",
       "</table>\n",
       "</div>"
      ],
      "text/plain": [
       "   year  month  day  temp_2  temp_1  average  actual  forecast_noaa  \\\n",
       "0  2016      1    1      45      45     45.6      45             43   \n",
       "1  2016      1    2      44      45     45.7      44             41   \n",
       "2  2016      1    3      45      44     45.8      41             43   \n",
       "3  2016      1    4      44      41     45.9      40             44   \n",
       "4  2016      1    5      41      40     46.0      44             46   \n",
       "\n",
       "   forecast_acc  forecast_under  friend  week_Fri  week_Mon  week_Sat  \\\n",
       "0            50              44      29         1         0         0   \n",
       "1            50              44      61         0         0         1   \n",
       "2            46              47      56         0         0         0   \n",
       "3            48              46      53         0         1         0   \n",
       "4            46              46      41         0         0         0   \n",
       "\n",
       "   week_Sun  week_Thurs  week_Tues  week_Wed  \n",
       "0         0           0          0         0  \n",
       "1         0           0          0         0  \n",
       "2         1           0          0         0  \n",
       "3         0           0          0         0  \n",
       "4         0           0          1         0  "
      ]
     },
     "execution_count": 10,
     "metadata": {},
     "output_type": "execute_result"
    }
   ],
   "source": [
    "df= pd.get_dummies(df)\n",
    "df.head()"
   ]
  },
  {
   "cell_type": "code",
   "execution_count": 11,
   "metadata": {},
   "outputs": [],
   "source": [
    "labels= np.array(df['actual'])"
   ]
  },
  {
   "cell_type": "code",
   "execution_count": 13,
   "metadata": {},
   "outputs": [],
   "source": [
    "features= df.drop('actual', axis=1)"
   ]
  },
  {
   "cell_type": "code",
   "execution_count": 16,
   "metadata": {},
   "outputs": [],
   "source": [
    "features_list= list(df.columns)\n",
    "features= np.array(features)"
   ]
  },
  {
   "cell_type": "code",
   "execution_count": 18,
   "metadata": {},
   "outputs": [
    {
     "name": "stdout",
     "output_type": "stream",
     "text": [
      "(257, 18) (91, 18)\n"
     ]
    }
   ],
   "source": [
    "train_all= df.copy()\n",
    "train= train_all.loc[train_all.month<= 9]\n",
    "valid= train_all.loc[train_all.month >9]\n",
    "print(train.shape, valid.shape)"
   ]
  },
  {
   "cell_type": "code",
   "execution_count": 19,
   "metadata": {},
   "outputs": [],
   "source": [
    "target_col= features_list.pop(6)\n",
    "in_cols= features_list\n"
   ]
  },
  {
   "cell_type": "code",
   "execution_count": 20,
   "metadata": {},
   "outputs": [],
   "source": [
    "#Get our X and Y training and validation sets ready\n",
    "X_train, y_train= train[in_cols], train[target_col]\n",
    "X_valid, y_valid= valid[in_cols], valid[target_col]"
   ]
  },
  {
   "cell_type": "code",
   "execution_count": 21,
   "metadata": {},
   "outputs": [
    {
     "name": "stdout",
     "output_type": "stream",
     "text": [
      "Training Features Shape:  (257, 17)\n",
      "Training Labels Shape:  (257,)\n",
      "Testing Features Shape:  (91, 17)\n",
      "Testing Labels Shape:  (91,)\n"
     ]
    }
   ],
   "source": [
    "print('Training Features Shape: ', X_train.shape)\n",
    "print('Training Labels Shape: ', y_train.shape)\n",
    "print('Testing Features Shape: ', X_valid.shape)\n",
    "print('Testing Labels Shape: ', y_valid.shape)"
   ]
  },
  {
   "cell_type": "code",
   "execution_count": 22,
   "metadata": {},
   "outputs": [],
   "source": [
    "#Using scikit-learn to split data into training and testing sets\n",
    "from sklearn.model_selection import train_test_split\n",
    "\n",
    "#Split data into training and testing sets\n",
    "train_features, test_features, train_labels, test_labels= train_test_split(features, labels, \n",
    "                                                                          test_size=0.25, random_state= 42)"
   ]
  },
  {
   "cell_type": "code",
   "execution_count": 23,
   "metadata": {},
   "outputs": [
    {
     "name": "stdout",
     "output_type": "stream",
     "text": [
      "Average baseline error:  5.06 degrees.\n"
     ]
    }
   ],
   "source": [
    "#The baseline predictions are the historical averages\n",
    "baseline_preds= test_features[:, features_list.index('average')]\n",
    "\n",
    "#Baseline errors, and average average baseline error\n",
    "baseline_errors= abs(baseline_preds - test_labels)\n",
    "print('Average baseline error: ', round(np.mean(baseline_errors), 2), 'degrees.')"
   ]
  },
  {
   "cell_type": "code",
   "execution_count": 24,
   "metadata": {},
   "outputs": [
    {
     "data": {
      "text/plain": [
       "SVC(C=1.0, break_ties=False, cache_size=200, class_weight=None, coef0=0.0,\n",
       "    decision_function_shape='ovr', degree=3, gamma='scale', kernel='rbf',\n",
       "    max_iter=-1, probability=False, random_state=None, shrinking=True,\n",
       "    tol=0.001, verbose=False)"
      ]
     },
     "execution_count": 24,
     "metadata": {},
     "output_type": "execute_result"
    }
   ],
   "source": [
    "from sklearn.svm import SVC\n",
    "model= SVC()\n",
    "model.fit(X_train, y_train)"
   ]
  },
  {
   "cell_type": "code",
   "execution_count": 25,
   "metadata": {},
   "outputs": [],
   "source": [
    "pred= model.predict(X_valid)"
   ]
  },
  {
   "cell_type": "code",
   "execution_count": 26,
   "metadata": {},
   "outputs": [
    {
     "name": "stdout",
     "output_type": "stream",
     "text": [
      "Mean Absolute Error is: 14.15\n"
     ]
    }
   ],
   "source": [
    "errors= abs(pred-y_valid)\n",
    "print(f'Mean Absolute Error is: {round(np.mean(errors),2)}')"
   ]
  },
  {
   "cell_type": "code",
   "execution_count": 30,
   "metadata": {},
   "outputs": [
    {
     "name": "stdout",
     "output_type": "stream",
     "text": [
      "Accuray: 70%\n"
     ]
    }
   ],
   "source": [
    "mape= 100*(errors/y_valid)\n",
    "accuracy= 100- np.mean(mape)\n",
    "print(f'Accuray: {round(accuracy)}%')"
   ]
  },
  {
   "cell_type": "code",
   "execution_count": 32,
   "metadata": {},
   "outputs": [],
   "source": [
    "param_grid= {'C': [0.1, 1, 10, 100, 1000]\n",
    "            ,'gamma': [1, 0.1, 0.01, 0.001, 0.0001], 'kernel':['rbf']}\n",
    "from sklearn.model_selection import GridSearchCV\n",
    "grid= GridSearchCV(SVC(), param_grid=param_grid, n_jobs=-1, verbose=5 )"
   ]
  },
  {
   "cell_type": "code",
   "execution_count": 33,
   "metadata": {},
   "outputs": [
    {
     "name": "stdout",
     "output_type": "stream",
     "text": [
      "Fitting 5 folds for each of 25 candidates, totalling 125 fits\n"
     ]
    },
    {
     "name": "stderr",
     "output_type": "stream",
     "text": [
      "C:\\Users\\USER\\anaconda3\\lib\\site-packages\\sklearn\\model_selection\\_split.py:667: UserWarning: The least populated class in y has only 1 members, which is less than n_splits=5.\n",
      "  % (min_groups, self.n_splits)), UserWarning)\n",
      "[Parallel(n_jobs=-1)]: Using backend LokyBackend with 2 concurrent workers.\n",
      "[Parallel(n_jobs=-1)]: Done  14 tasks      | elapsed:    3.8s\n",
      "[Parallel(n_jobs=-1)]: Done 125 out of 125 | elapsed:    6.4s finished\n"
     ]
    },
    {
     "data": {
      "text/plain": [
       "GridSearchCV(cv=None, error_score=nan,\n",
       "             estimator=SVC(C=1.0, break_ties=False, cache_size=200,\n",
       "                           class_weight=None, coef0=0.0,\n",
       "                           decision_function_shape='ovr', degree=3,\n",
       "                           gamma='scale', kernel='rbf', max_iter=-1,\n",
       "                           probability=False, random_state=None, shrinking=True,\n",
       "                           tol=0.001, verbose=False),\n",
       "             iid='deprecated', n_jobs=-1,\n",
       "             param_grid={'C': [0.1, 1, 10, 100, 1000],\n",
       "                         'gamma': [1, 0.1, 0.01, 0.001, 0.0001],\n",
       "                         'kernel': ['rbf']},\n",
       "             pre_dispatch='2*n_jobs', refit=True, return_train_score=False,\n",
       "             scoring=None, verbose=5)"
      ]
     },
     "execution_count": 33,
     "metadata": {},
     "output_type": "execute_result"
    }
   ],
   "source": [
    "grid.fit(X_train, y_train)"
   ]
  },
  {
   "cell_type": "code",
   "execution_count": 34,
   "metadata": {},
   "outputs": [
    {
     "data": {
      "text/plain": [
       "{'C': 100, 'gamma': 0.0001, 'kernel': 'rbf'}"
      ]
     },
     "execution_count": 34,
     "metadata": {},
     "output_type": "execute_result"
    }
   ],
   "source": [
    "grid.best_params_"
   ]
  },
  {
   "cell_type": "code",
   "execution_count": 35,
   "metadata": {},
   "outputs": [
    {
     "data": {
      "text/plain": [
       "SVC(C=100, break_ties=False, cache_size=200, class_weight=None, coef0=0.0,\n",
       "    decision_function_shape='ovr', degree=3, gamma=0.0001, kernel='rbf',\n",
       "    max_iter=-1, probability=False, random_state=None, shrinking=True,\n",
       "    tol=0.001, verbose=False)"
      ]
     },
     "execution_count": 35,
     "metadata": {},
     "output_type": "execute_result"
    }
   ],
   "source": [
    "grid.best_estimator_"
   ]
  },
  {
   "cell_type": "code",
   "execution_count": 36,
   "metadata": {},
   "outputs": [
    {
     "name": "stdout",
     "output_type": "stream",
     "text": [
      "Mean Absolute Error is: 4.99\n"
     ]
    }
   ],
   "source": [
    "pred= grid.predict(X_valid)\n",
    "errors= abs(pred-y_valid)\n",
    "print(f'Mean Absolute Error is: {round(np.mean(errors),2)}')"
   ]
  },
  {
   "cell_type": "code",
   "execution_count": 37,
   "metadata": {},
   "outputs": [
    {
     "name": "stdout",
     "output_type": "stream",
     "text": [
      "Accuray: 90%\n"
     ]
    }
   ],
   "source": [
    "mape= 100*(errors/y_valid)\n",
    "accuracy= 100- np.mean(mape)\n",
    "print(f'Accuray: {round(accuracy)}%')"
   ]
  },
  {
   "cell_type": "code",
   "execution_count": null,
   "metadata": {},
   "outputs": [],
   "source": []
  }
 ],
 "metadata": {
  "kernelspec": {
   "display_name": "Python 3",
   "language": "python",
   "name": "python3"
  },
  "language_info": {
   "codemirror_mode": {
    "name": "ipython",
    "version": 3
   },
   "file_extension": ".py",
   "mimetype": "text/x-python",
   "name": "python",
   "nbconvert_exporter": "python",
   "pygments_lexer": "ipython3",
   "version": "3.7.6"
  }
 },
 "nbformat": 4,
 "nbformat_minor": 4
}
